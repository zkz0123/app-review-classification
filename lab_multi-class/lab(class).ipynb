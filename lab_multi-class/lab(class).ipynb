{
 "cells": [
  {
   "cell_type": "markdown",
   "id": "889a6b9e-8e08-44fd-8257-6fce40caf525",
   "metadata": {},
   "source": [
    "# **Classification of app reviews for requirements engineering using deep learning models**"
   ]
  },
  {
   "cell_type": "code",
   "execution_count": null,
   "id": "57d2afcf-fbd4-40a4-9b6d-ab43a1a3fde8",
   "metadata": {},
   "outputs": [],
   "source": [
    "import datetime\n",
    "import gc\n",
    "import os\n",
    "import sys\n",
    "import time\n",
    "\n",
    "import matplotlib.pyplot as plt\n",
    "import pandas as pd\n",
    "from sklearn.metrics import classification_report\n",
    "from sklearn.model_selection import train_test_split\n",
    "\n",
    "import torch\n",
    "import torch.nn as nn\n",
    "from torch.optim import AdamW\n",
    "from torch.optim.lr_scheduler import ReduceLROnPlateau\n",
    "from torch.utils.data import DataLoader\n",
    "\n",
    "from datasets import Dataset, DatasetDict\n",
    "from transformers import (\n",
    "    AutoModelForSequenceClassification,\n",
    "    AutoTokenizer,\n",
    "    get_cosine_schedule_with_warmup,\n",
    "    get_linear_schedule_with_warmup\n",
    ")\n"
   ]
  },
  {
   "cell_type": "markdown",
   "id": "383bb831-c726-4152-981c-60f88ccfea66",
   "metadata": {},
   "source": [
    "### **Data Preparation**"
   ]
  },
  {
   "cell_type": "code",
   "execution_count": null,
   "id": "457b24a0-89b7-400f-9ebe-ec274a9b74d2",
   "metadata": {
    "scrolled": true
   },
   "outputs": [],
   "source": [
    "# Load dataset\n",
    "file_path = 'dataset/unbalanced/gpt_unbalanced_16000.xlsx'\n",
    "# file_path = 'dataset/unbalanced/unbalanced_4000.xlsx'\n",
    "dataframe = pd.read_excel(file_path)\n"
   ]
  },
  {
   "cell_type": "code",
   "execution_count": null,
   "id": "071236f8-2769-4fc8-9d53-7d5a75579fae",
   "metadata": {
    "scrolled": true
   },
   "outputs": [],
   "source": [
    "# Dataset splitting\n",
    "train_df, temp_df = train_test_split(\n",
    "    dataframe, test_size=0.2, stratify=dataframe['new_label'], random_state=42\n",
    ")\n",
    "val_df, test_df = train_test_split(\n",
    "    temp_df, test_size=0.5, stratify=temp_df['new_label'], random_state=42\n",
    ")\n",
    "\n",
    "train_dataset = Dataset.from_pandas(train_df)\n",
    "val_dataset = Dataset.from_pandas(val_df)\n",
    "test_dataset = Dataset.from_pandas(test_df)\n"
   ]
  },
  {
   "cell_type": "markdown",
   "id": "766b6e08-cff1-4193-9663-6d00fd178644",
   "metadata": {},
   "source": [
    "### **Model Configuration**"
   ]
  },
  {
   "cell_type": "code",
   "execution_count": null,
   "id": "37390bc4-1842-4c81-bd33-8885e6d69b8d",
   "metadata": {},
   "outputs": [],
   "source": [
    "MODEL_CONFIGS = {\n",
    "    'bert': {\n",
    "        'MODEL_NAME': 'bert-base-uncased',\n",
    "        'NUM_LABELS': 4,\n",
    "        'BATCH_SIZE': 32,\n",
    "        'LEARNING_RATE': 3e-5,\n",
    "        'WEIGHT_DECAY': 0.01,\n",
    "        'EPOCHS': 10,\n",
    "        'PATIENCE': 3\n",
    "    },\n",
    "    'roberta': {\n",
    "        'MODEL_NAME': 'roberta-base',\n",
    "        'NUM_LABELS': 4,\n",
    "        'BATCH_SIZE': 32,\n",
    "        'LEARNING_RATE': 3e-5,\n",
    "        'WEIGHT_DECAY': 0.01,\n",
    "        'EPOCHS': 10,\n",
    "        'PATIENCE': 3\n",
    "    },\n",
    "    'bart': {\n",
    "        'MODEL_NAME': 'facebook/bart-base',\n",
    "        'NUM_LABELS': 4,\n",
    "        'BATCH_SIZE': 32,\n",
    "        'LEARNING_RATE': 3e-5,\n",
    "        'WEIGHT_DECAY': 0.01,\n",
    "        'EPOCHS': 10,\n",
    "        'PATIENCE': 3\n",
    "    }\n",
    "}"
   ]
  },
  {
   "cell_type": "markdown",
   "id": "1a187542-593c-4112-84c8-8f492a3878e1",
   "metadata": {},
   "source": [
    "### **Data Preprocessing**"
   ]
  },
  {
   "cell_type": "code",
   "execution_count": null,
   "id": "b2d1e08c-2b00-4bd5-97fc-1109519dea56",
   "metadata": {},
   "outputs": [],
   "source": [
    "# Data preprocessing\n",
    "def preprocess_data(example, tokenizer):\n",
    "    texts = [text if isinstance(text, str) else \"\" for text in example['review']]\n",
    "    tokenized = tokenizer(texts, \n",
    "                          padding='max_length', \n",
    "                          truncation=True, \n",
    "                          max_length=256)\n",
    "    tokenized['labels'] = example['new_label']\n",
    "    return tokenized"
   ]
  },
  {
   "cell_type": "markdown",
   "id": "8ed4c90f-2f81-41c3-aa52-0a54d8cd46c8",
   "metadata": {},
   "source": [
    "### **Model Loading and Saving**"
   ]
  },
  {
   "cell_type": "code",
   "execution_count": null,
   "id": "9f1b14b7-e7d9-497f-96b9-fe2f78a2d558",
   "metadata": {},
   "outputs": [],
   "source": [
    "# Load tokenizer and model\n",
    "def load_model_and_tokenizer(model_name, num_labels):\n",
    "    tokenizer = AutoTokenizer.from_pretrained(model_name)\n",
    "    model = AutoModelForSequenceClassification.from_pretrained(model_name, num_labels=num_labels)\n",
    "    return model, tokenizer"
   ]
  },
  {
   "cell_type": "code",
   "execution_count": null,
   "id": "5a22feba-e124-486e-a8ca-b2e4286eff4d",
   "metadata": {},
   "outputs": [],
   "source": [
    "# Define a function to save the model\n",
    "def save_model(model, path):\n",
    "    try:\n",
    "        model.save_pretrained(path)\n",
    "        print(f\"Model saved to {path}\")\n",
    "        return True\n",
    "    except Exception as e:\n",
    "        print(f\"Model saving failed: {e}\")\n",
    "        return False"
   ]
  },
  {
   "cell_type": "markdown",
   "id": "0fe7532d-4031-4ea5-a51e-b98308be7375",
   "metadata": {},
   "source": [
    "### **Model Training**"
   ]
  },
  {
   "cell_type": "code",
   "execution_count": null,
   "id": "fb9fd4fc-a895-4cbb-b5aa-df4e0d5cb15d",
   "metadata": {},
   "outputs": [],
   "source": [
    "# Training function\n",
    "def train_model(model, train_dataloader, val_dataloader, \n",
    "                optimizer, scheduler, device, loss_fn, \n",
    "                epochs, patience, save_path, backup_path, model_type):\n",
    "    train_losses, val_losses = [], []\n",
    "    epochs_no_improve = 0\n",
    "    best_model_path = None\n",
    "    best_val_loss = float('inf') # set to infinite at beginning\n",
    "\n",
    "    # Training and Validation Loop\n",
    "    for epoch in range(epochs):\n",
    "        # Training\n",
    "        model.train()\n",
    "        total_loss = 0\n",
    "        for batch in train_dataloader:\n",
    "            # Move data to the device\n",
    "            inputs = {key: val.to(device) for key, val in batch.items() if key != 'labels'}\n",
    "            labels = batch['labels'].to(device)\n",
    "\n",
    "            # Forward pass\n",
    "            outputs = model(**inputs)                                \n",
    "            loss = loss_fn(outputs.logits, labels)\n",
    "\n",
    "            # Backward pass\n",
    "            optimizer.zero_grad()\n",
    "            loss.backward()\n",
    "            optimizer.step()\n",
    "            scheduler.step()\n",
    "\n",
    "            total_loss += loss.item()\n",
    "\n",
    "        # Calculate average training loss\n",
    "        avg_train_loss = total_loss / len(train_dataloader)\n",
    "        train_losses.append(avg_train_loss)\n",
    "\n",
    "        # Validation\n",
    "        model.eval()\n",
    "        val_loss = 0\n",
    "        with torch.no_grad():\n",
    "            for batch in val_dataloader:\n",
    "                # Move data to the device\n",
    "                inputs = {key: val.to(device) for key, val in batch.items() if key != 'labels'}\n",
    "                labels = batch['labels'].to(device)\n",
    "\n",
    "                # Forward pass\n",
    "                outputs = model(**inputs)                                \n",
    "                loss = loss_fn(outputs.logits, labels)\n",
    "                \n",
    "                val_loss += loss.item()\n",
    "\n",
    "        # Calculate average validation loss\n",
    "        avg_val_loss = val_loss / len(val_dataloader)\n",
    "        val_losses.append(avg_val_loss)\n",
    "\n",
    "        # Memory Cleanup\n",
    "        torch.cuda.empty_cache()\n",
    "        gc.collect()\n",
    "\n",
    "        # Print epoch metrics\n",
    "        print(f\"Epoch {epoch + 1:}\")\n",
    "        print(f\"Training Loss:   {avg_train_loss}\")\n",
    "        print(f\"Validation Loss: {avg_val_loss}\")\n",
    "\n",
    "        # Save the best model based on validation loss\n",
    "        if avg_val_loss < best_val_loss:\n",
    "            best_val_loss = avg_val_loss\n",
    "            epochs_no_improve = 0\n",
    "            saved = save_model(model, save_path)\n",
    "            if saved:\n",
    "                best_model_path = save_path\n",
    "            else:\n",
    "                backup_saved = save_model(model, backup_path)\n",
    "                if backup_saved:\n",
    "                    best_model_path = backup_path\n",
    "                else:\n",
    "                    print(\"Failed to save the model to both primary and backup paths. Stopping training.\")\n",
    "                    break\n",
    "        else:\n",
    "            epochs_no_improve += 1\n",
    "            if epochs_no_improve >= patience:\n",
    "                print(\"Early stopping due to no improvement in validation loss.\")\n",
    "                break\n",
    "\n",
    "    return train_losses, val_losses, best_model_path"
   ]
  },
  {
   "cell_type": "markdown",
   "id": "64af6eba-091f-482f-bff5-ee8a55c830cd",
   "metadata": {},
   "source": [
    "### **Model Evaluation**"
   ]
  },
  {
   "cell_type": "code",
   "execution_count": null,
   "id": "7a034632-688e-4035-a16c-b7580a3b767a",
   "metadata": {},
   "outputs": [],
   "source": [
    "def evaluate_model(dataloader, device, target_names, best_model_path, report_path):\n",
    "    if best_model_path:\n",
    "        model = AutoModelForSequenceClassification.from_pretrained(best_model_path)\n",
    "        model.to(device)\n",
    "        model.eval()\n",
    "\n",
    "        all_labels, all_preds = [], []\n",
    "        with torch.no_grad():\n",
    "            for batch in dataloader:\n",
    "                inputs = {key: val.to(device) for key, val in batch.items() if key != 'labels'}\n",
    "                labels = batch['labels'].to(device)\n",
    "                outputs = model(**inputs)\n",
    "                preds = outputs.logits.argmax(dim=1).cpu().numpy()\n",
    "    \n",
    "                all_labels.extend(labels.cpu().numpy())\n",
    "                all_preds.extend(preds)\n",
    "                \n",
    "        report_dict = classification_report(all_labels, all_preds, target_names=target_names, output_dict=True)\n",
    "        report_df = pd.DataFrame(report_dict).transpose()\n",
    "        \n",
    "        report_df = report_df.round(4)\n",
    "    \n",
    "        print(\"Classification Report:\")\n",
    "        print(report_df)\n",
    "        \n",
    "        # Save the classification report\n",
    "        report_df.to_csv(report_path, float_format='%.4f')\n",
    "        print(f\"Classification report saved to {report_path}\")\n",
    "\n",
    "        macro_f1 = report_dict[\"macro avg\"][\"f1-score\"]\n",
    "        print(f\"\\nMacro F1 Score: {macro_f1:.4f}\")\n"
   ]
  },
  {
   "cell_type": "markdown",
   "id": "74384a13-d776-42d2-8a5e-6806e63cb0f4",
   "metadata": {},
   "source": [
    "### **Plot Loss Curve**"
   ]
  },
  {
   "cell_type": "code",
   "execution_count": null,
   "id": "f0d6a616-d312-42f3-991a-df796daf2450",
   "metadata": {},
   "outputs": [],
   "source": [
    "# Draw the loss curve\n",
    "def plot_loss(train_losses, val_losses):\n",
    "    plt.plot(range(1, len(train_losses) + 1), train_losses, label='Training Loss')\n",
    "    plt.plot(range(1, len(val_losses) + 1), val_losses, label='Validation Loss')\n",
    "    plt.xlabel('Epoch')\n",
    "    plt.ylabel('Loss')\n",
    "    plt.title('Training and Validation Loss Curve')\n",
    "    plt.legend(loc='upper right')\n",
    "    plt.show()"
   ]
  },
  {
   "cell_type": "markdown",
   "id": "dfdb7396-62bf-4ffe-b628-f894208adca2",
   "metadata": {},
   "source": [
    "### **Record Training Time**"
   ]
  },
  {
   "cell_type": "code",
   "execution_count": null,
   "id": "20b7af99-42c7-430d-bda7-21f05a2c653a",
   "metadata": {},
   "outputs": [],
   "source": [
    "def record_training_time(start_time, end_time, model_key):\n",
    "    total_time = end_time - start_time\n",
    "    with open(\"training_times.txt\", \"a\") as f:\n",
    "        f.write(f\"{model_key} Training Time: {total_time:.2f} seconds\\n\")\n",
    "    print(f\"Total Training Time for {model_key}: {total_time:.2f} seconds\")"
   ]
  },
  {
   "cell_type": "markdown",
   "id": "b45bd6a6-f5fc-4f1e-aa4e-cecff567d681",
   "metadata": {},
   "source": [
    "### **Run Model**"
   ]
  },
  {
   "cell_type": "code",
   "execution_count": null,
   "id": "28e8fb0c-8ec4-436b-b1d2-13e094325c40",
   "metadata": {},
   "outputs": [],
   "source": [
    "def run_model(model_key, train_dataset, val_dataset, test_dataset):\n",
    "    start_time = time.time()\n",
    "    \n",
    "    config = MODEL_CONFIGS[model_key]\n",
    "    model_name = config['MODEL_NAME']\n",
    "\n",
    "    model, tokenizer = load_model_and_tokenizer(config['MODEL_NAME'], config['NUM_LABELS'])\n",
    "\n",
    "    # Apply preprocessing to train, validation, and test datasets\n",
    "    train_dataset = train_dataset.map(preprocess_data, batched=True, fn_kwargs={'tokenizer': tokenizer})\n",
    "    val_dataset = val_dataset.map(preprocess_data, batched=True, fn_kwargs={'tokenizer': tokenizer})\n",
    "    test_dataset = test_dataset.map(preprocess_data, batched=True, fn_kwargs={'tokenizer': tokenizer})\n",
    "    \n",
    "    # Convert datasets to PyTorch format\n",
    "    train_dataset.set_format(type='torch', columns=['input_ids', 'attention_mask', 'labels'])\n",
    "    val_dataset.set_format(type='torch', columns=['input_ids', 'attention_mask', 'labels'])\n",
    "    test_dataset.set_format(type='torch', columns=['input_ids', 'attention_mask', 'labels'])\n",
    "    \n",
    "    # Set device to GPU if available\n",
    "    device = torch.device(\"cuda\" if torch.cuda.is_available() else \"cpu\")\n",
    "    model.to(device)\n",
    "\n",
    "    # Define the loss function and optimizer for multi-class tasks\n",
    "    loss_fn = torch.nn.CrossEntropyLoss()\n",
    "    optimizer = AdamW(model.parameters(), lr=config['LEARNING_RATE'], weight_decay=config['WEIGHT_DECAY'])\n",
    "    \n",
    "    # Total training steps and Warm-Up steps\n",
    "    total_steps = len(train_dataset) * config['EPOCHS']\n",
    "    warmup_steps = int(0.1 * total_steps)  # warm-Up for the first 10% of training steps\n",
    "\n",
    "    # Warm-up learning rate scheduler\n",
    "    scheduler = get_linear_schedule_with_warmup(\n",
    "        optimizer,\n",
    "        num_warmup_steps=warmup_steps,\n",
    "        num_training_steps=total_steps,\n",
    "    )\n",
    "    # cosine annealing\n",
    "    # scheduler = get_cosine_schedule_with_warmup(\n",
    "    #     optimizer,\n",
    "    #     num_warmup_steps=warmup_steps,\n",
    "    #     num_training_steps=total_steps,\n",
    "    #     num_cycles=0.5\n",
    "    # )\n",
    "\n",
    "    # Create DataLoaders for training, validation and testing\n",
    "    train_dataloader = DataLoader(train_dataset, batch_size=config['BATCH_SIZE'], shuffle=True)\n",
    "    val_dataloader = DataLoader(val_dataset, batch_size=config['BATCH_SIZE'])\n",
    "    test_dataloader = DataLoader(test_dataset, batch_size=config['BATCH_SIZE'])\n",
    "\n",
    "    # Directory to save the model\n",
    "    save_dir = os.path.join(\".\", \"models\", model_key)\n",
    "    os.makedirs(save_dir, exist_ok=True)\n",
    "    timestamp = datetime.datetime.now().strftime(\"%Y%m%d_%H%M%S\")\n",
    "    save_path = os.path.join(save_dir, f\"best_model_{timestamp}\")\n",
    "    backup_path = os.path.join(save_dir, f\"backup_model_{timestamp}\")\n",
    "\n",
    "    train_losses, val_losses, best_model_path = train_model(\n",
    "        model,\n",
    "        train_dataloader,\n",
    "        val_dataloader,\n",
    "        optimizer,\n",
    "        scheduler,\n",
    "        device,\n",
    "        loss_fn,\n",
    "        epochs=config['EPOCHS'],\n",
    "        patience=config['PATIENCE'],\n",
    "        save_path=save_path,\n",
    "        backup_path=backup_path,\n",
    "        model_type=model_key\n",
    "    )\n",
    "    end_time = time.time()\n",
    "\n",
    "    plot_loss(train_losses, val_losses)\n",
    "\n",
    "    # Save classification report\n",
    "    report_path = os.path.join(save_dir, f\"classification_report_{timestamp}.csv\")\n",
    "\n",
    "    # Evaluate on the test set\n",
    "    evaluate_model(\n",
    "        test_dataloader, \n",
    "        device, \n",
    "        target_names=['bug report', 'feature request', 'rating', 'user experience'],\n",
    "        best_model_path=best_model_path,\n",
    "        report_path=report_path\n",
    "    )\n",
    "    \n",
    "    record_training_time(start_time, end_time, model_key)\n",
    "\n",
    "    # Memory Cleanup\n",
    "    del model, tokenizer, train_dataloader, val_dataloader, test_dataloader, optimizer, scheduler, loss_fn\n",
    "    torch.cuda.empty_cache()\n",
    "    gc.collect()"
   ]
  },
  {
   "cell_type": "markdown",
   "id": "100a79ae-45a8-4f78-860b-c7aced2fb988",
   "metadata": {},
   "source": [
    "# Train models"
   ]
  },
  {
   "cell_type": "code",
   "execution_count": null,
   "id": "1dcecc37-4cf6-4ba8-8e09-617c64102ccb",
   "metadata": {},
   "outputs": [],
   "source": [
    "# # Train BERT model\n",
    "# run_model('bert', train_dataset, val_dataset, test_dataset)"
   ]
  },
  {
   "cell_type": "code",
   "execution_count": null,
   "id": "9f6c9016-8f7b-4139-af41-a2ae5b3310c3",
   "metadata": {},
   "outputs": [],
   "source": [
    "# # Train RoBERTa model\n",
    "# run_model('roberta', train_dataset, val_dataset, test_dataset)"
   ]
  },
  {
   "cell_type": "code",
   "execution_count": null,
   "id": "2c886b70-5215-41c3-baed-1c9946023ed7",
   "metadata": {},
   "outputs": [],
   "source": [
    "# Train BART model\n",
    "run_model('bart', train_dataset, val_dataset, test_dataset)"
   ]
  },
  {
   "cell_type": "code",
   "execution_count": null,
   "id": "0bc57a34-7b68-4139-980a-93ef512e03b3",
   "metadata": {},
   "outputs": [],
   "source": [
    "# Train BART model\n",
    "run_model('bart', train_dataset, val_dataset, test_dataset)"
   ]
  },
  {
   "cell_type": "code",
   "execution_count": null,
   "id": "f6b21a51-e18d-4433-8009-d84261f6f8f2",
   "metadata": {},
   "outputs": [],
   "source": [
    "# Train BART model\n",
    "run_model('bart', train_dataset, val_dataset, test_dataset)"
   ]
  }
 ],
 "metadata": {
  "kernelspec": {
   "display_name": "Python 3 (ipykernel)",
   "language": "python",
   "name": "python3"
  },
  "language_info": {
   "codemirror_mode": {
    "name": "ipython",
    "version": 3
   },
   "file_extension": ".py",
   "mimetype": "text/x-python",
   "name": "python",
   "nbconvert_exporter": "python",
   "pygments_lexer": "ipython3",
   "version": "3.11.9"
  }
 },
 "nbformat": 4,
 "nbformat_minor": 5
}
